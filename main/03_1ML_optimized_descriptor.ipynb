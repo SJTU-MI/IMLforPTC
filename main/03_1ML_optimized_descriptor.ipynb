{
 "cells": [
  {
   "cell_type": "code",
   "execution_count": 3,
   "id": "7549f07f",
   "metadata": {},
   "outputs": [],
   "source": [
    "import pandas as pd\n",
    "from sklearn.preprocessing import StandardScaler\n",
    "scaler = StandardScaler()"
   ]
  },
  {
   "cell_type": "code",
   "execution_count": 13,
   "id": "6dcf291b",
   "metadata": {},
   "outputs": [],
   "source": [
    "feature_path=\"../Data02-different_descriptors/optimized_descriptor/"\n",
    "TC_path=\"../Data02-different_descriptors/TC/"\n",
    "train_data=\"Optimzed_train.pkl\"\n",
    "test_data=\"Optimzed_test.pkl\"\n",
    "TC_train=\"TC_train.pkl\"\n",
    "TC_test=\"TC_test.pkl\""
   ]
  },
  {
   "cell_type": "code",
   "execution_count": 15,
   "id": "21a9165f",
   "metadata": {},
   "outputs": [],
   "source": [
    "train_df=pd.read_pickle(feature_path+train_data)\n",
    "test_df=pd.read_pickle(feature_path+test_data)\n",
    "TCtrain_df=pd.read_pickle(TC_path+TC_train)\n",
    "TCtest_df=pd.read_pickle(TC_path+TC_test)"
   ]
  },
  {
   "cell_type": "code",
   "execution_count": 28,
   "id": "665f312c",
   "metadata": {},
   "outputs": [],
   "source": [
    "X_train=train_df.drop(train_df.columns[0:1], axis=1)\n",
    "X_test=test_df.drop(test_df.columns[0:1], axis=1)\n",
    "y_train=TCtrain_df[\"TC_log2\"]\n",
    "y_test=TCtest_df[\"TC_log2\"]\n",
    "for i in [X_train, X_test, y_train,y_test]:\n",
    "    i.index = range(i.shape[0])\n",
    "scaler.fit(X_train)\n",
    "#scaler.fit(X_test)\n",
    "X = scaler.transform(X_train)\n",
    "X_test = scaler.transform(X_test)"
   ]
  },
  {
   "cell_type": "code",
   "execution_count": 41,
   "id": "cad13324",
   "metadata": {},
   "outputs": [],
   "source": [
    "from sklearn.ensemble import RandomForestRegressor\n",
    "import xgboost as xgb\n",
    "from sklearn.neural_network import MLPRegressor\n",
    "from sklearn.metrics import mean_squared_error\n",
    "import math\n",
    "import numpy as np"
   ]
  },
  {
   "cell_type": "code",
   "execution_count": 31,
   "id": "fef4b38e",
   "metadata": {},
   "outputs": [
    {
     "name": "stdout",
     "output_type": "stream",
     "text": [
      "***==========Construction of RF model==========***\n",
      "1049 19 4 2\n",
      "Training set score: 0.874561\n",
      "Test set score: 0.843780\n",
      "MSE:0.1676642019345101\n",
      "RMSE:0.40946819404504436\n"
     ]
    }
   ],
   "source": [
    "#RF model\n",
    "print (\"***==========Construction of RF model==========***\")\n",
    "n_estimator = int(1049.5194149022827)\n",
    "max_depths = int(19.120521400013587)\n",
    "min_samples_split=int(np.round(4.187617655312546))\n",
    "min_samples_leaf=int(np.round(2.2678063266759345))\n",
    "print(n_estimator,max_depths,min_samples_split,min_samples_leaf)\n",
    "rfg = RandomForestRegressor(n_estimators = n_estimator, max_features='auto',random_state=1, max_depth = max_depths,min_samples_split=min_samples_split,min_samples_leaf=min_samples_leaf)\n",
    "rfg.fit(X,y_train.values.ravel())\n",
    "res = rfg.predict(X_test)\n",
    "print(\"Training set score: %f\" % rfg.score(X,y_train))\n",
    "print(\"Test set score: %f\" % rfg.score(X_test,y_test))\n",
    "mse=mean_squared_error(y_test,res)\n",
    "rmse=math.sqrt(mse)\n",
    "print('MSE:{}'.format(mse))\n",
    "print('RMSE:{}'.format(rmse))"
   ]
  },
  {
   "cell_type": "code",
   "execution_count": 42,
   "id": "34150420",
   "metadata": {},
   "outputs": [
    {
     "name": "stdout",
     "output_type": "stream",
     "text": [
      "***==========Construction of XGboost model==========***\n",
      "0.15 841 10 10 0.6 0.92 0.31 0.39 2.98\n",
      "Training set score: 0.947604\n",
      "Test set score: 0.868088\n",
      "MSE:0.14157596986695892\n",
      "RMSE:0.37626582341073567\n"
     ]
    }
   ],
   "source": [
    "#XGboost model\n",
    "print (\"***==========Construction of XGboost model==========***\")\n",
    "learning_rate=round(0.149742967280086,2)\n",
    "n_estimators=int(841.318595810801)\n",
    "max_depth = int(10.304718734638644)\n",
    "min_child_weight=int(10.256411186120662)\n",
    "subsample=round(0.6000345273365666,2)\n",
    "colsample_bytree=round(0.9227779951578643,2)\n",
    "gamma=round(0.30800885138569567,2)\n",
    "reg_alpha=round(0.39068597017108864,2)\n",
    "reg_lambda=round(2.9796780534414946,2)\n",
    "print (learning_rate,n_estimators,max_depth,min_child_weight,subsample,colsample_bytree,gamma,reg_alpha,reg_lambda)\n",
    "model = xgb.XGBRegressor(learning_rate=learning_rate,n_estimators=n_estimators,max_depth=max_depth,min_child_weight=min_child_weight\\\n",
    "                             ,seed=36,subsample=subsample,colsample_bytree=colsample_bytree,gamma=gamma,reg_alpha=reg_alpha,reg_lambda=reg_lambda)\n",
    "model.fit(X,y_train.values.ravel())\n",
    "res = model.predict(X_test)\n",
    "print(\"Training set score: %f\" % model.score(X,y_train))\n",
    "print(\"Test set score: %f\" % model.score(X_test,y_test))\n",
    "mse=mean_squared_error(y_test,res)\n",
    "rmse=math.sqrt(mse)\n",
    "print('MSE:{}'.format(mse))\n",
    "print('RMSE:{}'.format(rmse))"
   ]
  },
  {
   "cell_type": "code",
   "execution_count": 47,
   "id": "b4303edd",
   "metadata": {},
   "outputs": [
    {
     "name": "stdout",
     "output_type": "stream",
     "text": [
      "***==========Construction of MLP model==========***\n",
      "Training set score: 0.822102\n",
      "Test set score: 0.870981\n",
      "MSE:0.13847017479343662\n",
      "RMSE:0.372115808308968\n"
     ]
    },
    {
     "name": "stderr",
     "output_type": "stream",
     "text": [
      "D:\\software\\anaconda3\\lib\\site-packages\\sklearn\\neural_network\\_multilayer_perceptron.py:692: ConvergenceWarning: Stochastic Optimizer: Maximum iterations (1000) reached and the optimization hasn't converged yet.\n",
      "  warnings.warn(\n"
     ]
    }
   ],
   "source": [
    "#MLP model\n",
    "print (\"***==========Construction of MLP model==========***\")\n",
    "randomseed = np.random.seed(int(19))\n",
    "clf = MLPRegressor(solver='sgd',alpha=0.021216061589892313,\n",
    "                   hidden_layer_sizes=[207, 207, 207, 207], max_iter=1000,\n",
    "                   verbose=False, tol=0.0001,random_state=randomseed)\n",
    "clf.fit(X,y_train.values.ravel())\n",
    "print(\"Training set score: %f\" % clf.score(X,y_train))\n",
    "print(\"Test set score: %f\" % clf.score(X_test,y_test))\n",
    "res = clf.predict(X_test)\n",
    "mse=mean_squared_error(y_test,res)\n",
    "rmse=math.sqrt(mse)\n",
    "print('MSE:{}'.format(mse))\n",
    "print('RMSE:{}'.format(rmse))"
   ]
  },
  {
   "cell_type": "code",
   "execution_count": 33,
   "id": "efad0432",
   "metadata": {},
   "outputs": [],
   "source": [
    "import matplotlib.pyplot as plt\n",
    "from matplotlib.pyplot import MultipleLocator"
   ]
  },
  {
   "cell_type": "code",
   "execution_count": 35,
   "id": "8fdd59a9",
   "metadata": {},
   "outputs": [
    {
     "name": "stdout",
     "output_type": "stream",
     "text": [
      "***==========Plots of RF model prediction results==========***\n"
     ]
    },
    {
     "data": {
      "image/png": "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\n",
      "text/plain": [
       "<Figure size 288x252 with 1 Axes>"
      ]
     },
     "metadata": {
      "needs_background": "light"
     },
     "output_type": "display_data"
    }
   ],
   "source": [
    "print (\"***==========Plots of RF model prediction results==========***\")\n",
    "RF_train = rfg.predict(X)\n",
    "RF_test = rfg.predict(X_test)\n",
    "plt.rc('font',family='Arial',weight='normal')\n",
    "font1 = {'family' : 'Arial',\n",
    "'weight' : 'normal',\n",
    "'size'   : 16,\n",
    "}\n",
    "font2 = {'family' : 'Arial',\n",
    "'weight' : 'normal',\n",
    "'size'   : 16,\n",
    "}\n",
    "plt.figure(figsize=(4,3.5))\n",
    "#plt.title(\"Traing dataset with r2=0.955\",font1)\n",
    "plt.plot(y_train,RF_train,color='b',marker='o',linestyle='', markerfacecolor='white',alpha=1)\n",
    "plt.plot(y_test,RF_test,color='r',marker='o',linestyle='', markerfacecolor='white',alpha=1)\n",
    "plt.legend(labels=[\"Training data\",\"Test data\"],loc=\"best\",fontsize=14)  \n",
    "sub_map= str.maketrans('0123456789', '₀₁₂₃₄₅₆₇₈₉')\n",
    "title='Calculated TC (log2K)'\n",
    "title1='Predicted TC (log2K)'\n",
    "plt.xlabel(title,font1 )\n",
    "plt.ylabel(title1,font1 )\n",
    "plt.xlim((-1, 9))\n",
    "plt.ylim((-1, 9))\n",
    "plt.plot([-1,9],[-1,9], color='k', linewidth=1.5, linestyle='--')\n",
    "my_x_ticks = np.arange(-1,10,2)\n",
    "my_y_ticks = np.arange(-1,10,2)\n",
    "plt.xticks(my_x_ticks,size=14)\n",
    "plt.yticks(my_y_ticks,size=14)\n",
    "plt.tick_params(width=1.5)\n",
    "bwith = 1.5 \n",
    "TK = plt.gca()\n",
    "TK.spines['bottom'].set_linewidth(bwith)\n",
    "TK.spines['left'].set_linewidth(bwith)\n",
    "TK.spines['top'].set_linewidth(bwith)\n",
    "TK.spines['right'].set_linewidth(bwith)\n",
    "#plt.savefig('result.pdf',transparent=True,bbox_inches = 'tight')\n",
    "#plt.savefig('result.svg',transparent=True,bbox_inches = 'tight')\n",
    "#plt.savefig('result.png', dpi=300,transparent=True,bbox_inches = 'tight')\n",
    "plt.tight_layout()\n",
    "# show\n",
    "plt.show()"
   ]
  },
  {
   "cell_type": "code",
   "execution_count": 40,
   "id": "1964a30a",
   "metadata": {},
   "outputs": [
    {
     "name": "stdout",
     "output_type": "stream",
     "text": [
      "***==========Plots of XGBoost model prediction results==========***\n"
     ]
    },
    {
     "data": {
      "image/png": "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\n",
      "text/plain": [
       "<Figure size 288x252 with 1 Axes>"
      ]
     },
     "metadata": {
      "needs_background": "light"
     },
     "output_type": "display_data"
    }
   ],
   "source": [
    "print (\"***==========Plots of XGBoost model prediction results==========***\")\n",
    "XGBoost_train = model.predict(X)\n",
    "XGBoost_test = model.predict(X_test)\n",
    "plt.rc('font',family='Arial',weight='normal')\n",
    "font1 = {'family' : 'Arial',\n",
    "'weight' : 'normal',\n",
    "'size'   : 16,\n",
    "}\n",
    "font2 = {'family' : 'Arial',\n",
    "'weight' : 'normal',\n",
    "'size'   : 16,\n",
    "}\n",
    "plt.figure(figsize=(4,3.5))\n",
    "#plt.title(\"Traing dataset with r2=0.955\",font1)\n",
    "plt.plot(y_train,XGBoost_train,color='b',marker='o',linestyle='', markerfacecolor='white',alpha=1)\n",
    "plt.plot(y_test,XGBoost_test,color='r',marker='o',linestyle='', markerfacecolor='white',alpha=1)\n",
    "plt.legend(labels=[\"Training data\",\"Test data\"],loc=\"best\",fontsize=14)  \n",
    "sub_map= str.maketrans('0123456789', '₀₁₂₃₄₅₆₇₈₉')\n",
    "title='Calculated TC (log2K)'\n",
    "title1='Predicted TC (log2K)'\n",
    "plt.xlabel(title,font1 )\n",
    "plt.ylabel(title1,font1 )\n",
    "plt.xlim((-1, 9))\n",
    "plt.ylim((-1, 9))\n",
    "plt.plot([-1,9],[-1,9], color='k', linewidth=1.5, linestyle='--')\n",
    "my_x_ticks = np.arange(-1,10,2)\n",
    "my_y_ticks = np.arange(-1,10,2)\n",
    "plt.xticks(my_x_ticks,size=14)\n",
    "plt.yticks(my_y_ticks,size=14)\n",
    "plt.tick_params(width=1.5)\n",
    "bwith = 1.5 \n",
    "TK = plt.gca()\n",
    "TK.spines['bottom'].set_linewidth(bwith)\n",
    "TK.spines['left'].set_linewidth(bwith)\n",
    "TK.spines['top'].set_linewidth(bwith)\n",
    "TK.spines['right'].set_linewidth(bwith)\n",
    "#plt.savefig('result1.pdf',transparent=True,bbox_inches = 'tight')\n",
    "#plt.savefig('result1.svg',transparent=True,bbox_inches = 'tight')\n",
    "#plt.savefig('result1.png', dpi=300,transparent=True,bbox_inches = 'tight')\n",
    "plt.tight_layout()\n",
    "# show\n",
    "plt.show()"
   ]
  },
  {
   "cell_type": "code",
   "execution_count": 45,
   "id": "a8075a0c",
   "metadata": {},
   "outputs": [
    {
     "name": "stdout",
     "output_type": "stream",
     "text": [
      "***==========Plots of MLP model prediction results==========***\n"
     ]
    },
    {
     "data": {
      "image/png": "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\n",
      "text/plain": [
       "<Figure size 288x252 with 1 Axes>"
      ]
     },
     "metadata": {
      "needs_background": "light"
     },
     "output_type": "display_data"
    }
   ],
   "source": [
    "print (\"***==========Plots of MLP model prediction results==========***\")\n",
    "MLP_train = clf.predict(X)\n",
    "MLP_test = clf.predict(X_test)\n",
    "plt.rc('font',family='Arial',weight='normal')\n",
    "font1 = {'family' : 'Arial',\n",
    "'weight' : 'normal',\n",
    "'size'   : 16,\n",
    "}\n",
    "font2 = {'family' : 'Arial',\n",
    "'weight' : 'normal',\n",
    "'size'   : 16,\n",
    "}\n",
    "plt.figure(figsize=(4,3.5))\n",
    "#plt.title(\"Traing dataset with r2=0.955\",font1)\n",
    "plt.plot(y_train,MLP_train,color='b',marker='o',linestyle='', markerfacecolor='white',alpha=1)\n",
    "plt.plot(y_test,MLP_test,color='r',marker='o',linestyle='', markerfacecolor='white',alpha=1)\n",
    "plt.legend(labels=[\"Training data\",\"Test data\"],loc=\"best\",fontsize=14)  \n",
    "sub_map= str.maketrans('0123456789', '₀₁₂₃₄₅₆₇₈₉')\n",
    "title='Calculated TC (log2K)'\n",
    "title1='Predicted TC (log2K)'\n",
    "plt.xlabel(title,font1 )\n",
    "plt.ylabel(title1,font1 )\n",
    "plt.xlim((-1, 9))\n",
    "plt.ylim((-1, 9))\n",
    "plt.plot([-1,9],[-1,9], color='k', linewidth=1.5, linestyle='--')\n",
    "my_x_ticks = np.arange(-1,10,2)\n",
    "my_y_ticks = np.arange(-1,10,2)\n",
    "plt.xticks(my_x_ticks,size=14)\n",
    "plt.yticks(my_y_ticks,size=14)\n",
    "plt.tick_params(width=1.5)\n",
    "bwith = 1.5 \n",
    "TK = plt.gca()\n",
    "TK.spines['bottom'].set_linewidth(bwith)\n",
    "TK.spines['left'].set_linewidth(bwith)\n",
    "TK.spines['top'].set_linewidth(bwith)\n",
    "TK.spines['right'].set_linewidth(bwith)\n",
    "#plt.savefig('result2.pdf',transparent=True,bbox_inches = 'tight')\n",
    "#plt.savefig('result2.svg',transparent=True,bbox_inches = 'tight')\n",
    "#plt.savefig('result2.png', dpi=300,transparent=True,bbox_inches = 'tight')\n",
    "plt.tight_layout()\n",
    "# show\n",
    "plt.show()"
   ]
  }
 ],
 "metadata": {
  "kernelspec": {
   "display_name": "Python 3 (ipykernel)",
   "language": "python",
   "name": "python3"
  },
  "language_info": {
   "codemirror_mode": {
    "name": "ipython",
    "version": 3
   },
   "file_extension": ".py",
   "mimetype": "text/x-python",
   "name": "python",
   "nbconvert_exporter": "python",
   "pygments_lexer": "ipython3",
   "version": "3.8.5"
  }
 },
 "nbformat": 4,
 "nbformat_minor": 5
}
