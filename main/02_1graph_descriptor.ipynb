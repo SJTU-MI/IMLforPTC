{
 "cells": [
  {
   "cell_type": "code",
   "execution_count": 6,
   "id": "922dd925",
   "metadata": {},
   "outputs": [],
   "source": [
    "import numpy as np\n",
    "from rdkit import Chem, DataStructs\n",
    "from rdkit.Chem import AllChem\n",
    "import pandas as pd"
   ]
  },
  {
   "cell_type": "code",
   "execution_count": 7,
   "id": "3af18a12",
   "metadata": {},
   "outputs": [
    {
     "data": {
      "text/plain": [
       "'Ref: https://github.com/chemprop/chemprop/blob/93e0aefda97e7153da7715120ff55a66863948f9/chemprop/features/features_generators.py'"
      ]
     },
     "execution_count": 7,
     "metadata": {},
     "output_type": "execute_result"
    }
   ],
   "source": [
    "\"Ref: https://github.com/chemprop/chemprop/blob/93e0aefda97e7153da7715120ff55a66863948f9/chemprop/features/features_generators.py\""
   ]
  },
  {
   "cell_type": "code",
   "execution_count": 8,
   "id": "45172571",
   "metadata": {},
   "outputs": [],
   "source": [
    "MORGAN_RADIUS = 2\n",
    "MORGAN_NUM_BITS = 1024\n",
    "\n",
    "\n",
    "#@register_features_generator('morgan')\n",
    "def morgan_binary_features_generator(mol,\n",
    "                                     radius: int = MORGAN_RADIUS,\n",
    "                                     num_bits: int = MORGAN_NUM_BITS) -> np.ndarray:\n",
    "    \"\"\"\n",
    "    Generates a binary Morgan fingerprint for a molecule.\n",
    "    :param mol: A molecule (i.e., either a SMILES or an RDKit molecule).\n",
    "    :param radius: Morgan fingerprint radius.\n",
    "    :param num_bits: Number of bits in Morgan fingerprint.\n",
    "    :return: A 1D numpy array containing the binary Morgan fingerprint.\n",
    "    \"\"\"\n",
    "    mol = Chem.MolFromSmiles(mol) if type(mol) == str else mol\n",
    "    features_vec = AllChem.GetMorganFingerprintAsBitVect(mol, radius, nBits=num_bits)\n",
    "    features = np.zeros((1,))\n",
    "    DataStructs.ConvertToNumpyArray(features_vec, features)\n",
    "\n",
    "    return features"
   ]
  },
  {
   "cell_type": "code",
   "execution_count": 9,
   "id": "e6fa3ee4",
   "metadata": {},
   "outputs": [],
   "source": [
    "def morgan_counts_features_generator(mol,\n",
    "                                     radius: int = MORGAN_RADIUS,\n",
    "                                     num_bits: int = MORGAN_NUM_BITS) -> np.ndarray:\n",
    "    \"\"\"\n",
    "    Generates a counts-based Morgan fingerprint for a molecule.\n",
    "    :param mol: A molecule (i.e., either a SMILES or an RDKit molecule).\n",
    "    :param radius: Morgan fingerprint radius.\n",
    "    :param num_bits: Number of bits in Morgan fingerprint.\n",
    "    :return: A 1D numpy array containing the counts-based Morgan fingerprint.\n",
    "    \"\"\"\n",
    "    mol = Chem.MolFromSmiles(mol) if type(mol) == str else mol\n",
    "    features_vec = AllChem.GetHashedMorganFingerprint(mol, radius, nBits=num_bits)\n",
    "    features = np.zeros((1,))\n",
    "    DataStructs.ConvertToNumpyArray(features_vec, features)\n",
    "\n",
    "    return features"
   ]
  },
  {
   "cell_type": "code",
   "execution_count": 10,
   "id": "c437595c",
   "metadata": {},
   "outputs": [],
   "source": [
    "def MACCS_features_generator(mol) -> np.ndarray:\n",
    "    \"\"\"\n",
    "    Generates a counts-based Morgan fingerprint for a molecule.\n",
    "    :param mol: A molecule (i.e., either a SMILES or an RDKit molecule).\n",
    "    :param radius: Morgan fingerprint radius.\n",
    "    :param num_bits: Number of bits in Morgan fingerprint.\n",
    "    :return: A 1D numpy array containing the counts-based Morgan fingerprint.\n",
    "    \"\"\"\n",
    "    mol = Chem.MolFromSmiles(mol) if type(mol) == str else mol\n",
    "    features_vec = AllChem.GetMACCSKeysFingerprint(mol)\n",
    "    features = np.zeros((1,))\n",
    "    DataStructs.ConvertToNumpyArray(features_vec, features)\n",
    "    \n",
    "    return features"
   ]
  },
  {
   "cell_type": "code",
   "execution_count": 14,
   "id": "0709242d",
   "metadata": {},
   "outputs": [],
   "source": [
    "load_path='../Data02-different_descriptors/SMILES/'\n",
    "save_path='../Data02-different_descriptors/graph_descriptor/'\n",
    "train_data='SMILES_train.pkl'\n",
    "test_data='SMILES_test.pkl'"
   ]
  },
  {
   "cell_type": "code",
   "execution_count": 18,
   "id": "582faf5c",
   "metadata": {},
   "outputs": [],
   "source": [
    "train_df=pd.read_pickle(load_path+train_data)\n",
    "test_df=pd.read_pickle(load_path+test_data)\n",
    "train_SMILES=train_df['SMILES']\n",
    "test_SMILES=test_df['SMILES']"
   ]
  },
  {
   "cell_type": "code",
   "execution_count": 28,
   "id": "c397cbb2",
   "metadata": {},
   "outputs": [],
   "source": [
    "#get morgan_binary_features_generator\n",
    "Morgan_train = [morgan_binary_features_generator(smi) for smi in train_SMILES]\n",
    "Morgan_test = [morgan_binary_features_generator(smi) for smi in test_SMILES]\n",
    "df_MFtrain = pd.DataFrame(np.array(Morgan_train, int)) \n",
    "df_MFtest = pd.DataFrame(np.array(Morgan_test, int)) \n",
    "Column=[(\"MF\"+str(i+1)) for i in range(0,MORGAN_NUM_BITS)]   \n",
    "df_MFtrain.columns=Column\n",
    "df_MFtest.columns=Column\n",
    "df_MFtrain.to_pickle(save_path+\"MF_train.pkl\")\n",
    "df_MFtest.to_pickle(save_path+\"MF_test.pkl\")"
   ]
  },
  {
   "cell_type": "code",
   "execution_count": 40,
   "id": "0cc58469",
   "metadata": {},
   "outputs": [],
   "source": [
    "#get morgan_counts_features_generator\n",
    "cMorgan_train = [morgan_counts_features_generator(smi) for smi in train_SMILES]\n",
    "cMorgan_test= [morgan_counts_features_generator(smi) for smi in test_SMILES]\n",
    "df_cMFtrain = pd.DataFrame(np.array(cMorgan_train, int)) \n",
    "df_cMFtest = pd.DataFrame(np.array(cMorgan_test, int)) \n",
    "Column1=[(\"cMF\"+str(i+1)) for i in range(0,MORGAN_NUM_BITS)]\n",
    "df_cMFtrain.columns=Column1\n",
    "df_cMFtest.columns=Column1\n",
    "df_cMFtrain.to_pickle(save_path+\"cMF_train.pkl\")\n",
    "df_cMFtest.to_pickle(save_path+\"cMF_test.pkl\")"
   ]
  },
  {
   "cell_type": "code",
   "execution_count": 41,
   "id": "f8b2bce5",
   "metadata": {},
   "outputs": [],
   "source": [
    "#get MACCS_features_generator\n",
    "MACCS_train= [MACCS_features_generator(smi) for smi in train_SMILES]\n",
    "MACCS_test= [MACCS_features_generator(smi) for smi in test_SMILES]\n",
    "df_MACCStrain = pd.DataFrame(np.array(MACCS_train, int)) \n",
    "df_MACCStest = pd.DataFrame(np.array(MACCS_test, int)) \n",
    "Column=[(\"MACCS\"+str(i+1)) for i in range(0,167)]   \n",
    "df_MACCStrain.columns=Column\n",
    "df_MACCStest.columns=Column\n",
    "df_MACCStrain.to_pickle(save_path+\"MACCS_train.pkl\")\n",
    "df_MACCStest.to_pickle(save_path+\"MACCS_test.pkl\")"
   ]
  },
  {
   "cell_type": "code",
   "execution_count": null,
   "id": "49997f09",
   "metadata": {},
   "outputs": [],
   "source": []
  }
 ],
 "metadata": {
  "kernelspec": {
   "display_name": "Python 3 (ipykernel)",
   "language": "python",
   "name": "python3"
  },
  "language_info": {
   "codemirror_mode": {
    "name": "ipython",
    "version": 3
   },
   "file_extension": ".py",
   "mimetype": "text/x-python",
   "name": "python",
   "nbconvert_exporter": "python",
   "pygments_lexer": "ipython3",
   "version": "3.8.5"
  }
 },
 "nbformat": 4,
 "nbformat_minor": 5
}
