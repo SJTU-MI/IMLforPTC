{
 "cells": [
  {
   "cell_type": "code",
   "execution_count": 45,
   "id": "7549f07f",
   "metadata": {},
   "outputs": [],
   "source": [
    "import pandas as pd\n",
    "from sklearn.preprocessing import StandardScaler\n",
    "scaler = StandardScaler()"
   ]
  },
  {
   "cell_type": "code",
   "execution_count": 46,
   "id": "6dcf291b",
   "metadata": {},
   "outputs": [],
   "source": [
    "feature_path=\"../Data02-different_descriptors/Cor_descriptor/\"\n",
    "TC_path=\"../Data02-different_descriptors/Cor_descriptor/\"\n",
    "train_data=\"Cor_train.pkl\"\n",
    "test_data=\"Cor_test.pkl\"\n",
    "TC_train=\"TC_Cortrain.pkl\"\n",
    "TC_test=\"TC_Cortest.pkl\""
   ]
  },
  {
   "cell_type": "code",
   "execution_count": 47,
   "id": "21a9165f",
   "metadata": {},
   "outputs": [],
   "source": [
    "train_df=pd.read_pickle(feature_path+train_data)\n",
    "test_df=pd.read_pickle(feature_path+test_data)\n",
    "TCtrain_df=pd.read_pickle(TC_path+TC_train)\n",
    "TCtest_df=pd.read_pickle(TC_path+TC_test)"
   ]
  },
  {
   "cell_type": "code",
   "execution_count": 50,
   "id": "315c4758",
   "metadata": {},
   "outputs": [
    {
     "data": {
      "text/plain": [
       "0       1.663058\n",
       "1       1.028773\n",
       "2       0.890706\n",
       "3       0.644507\n",
       "4       1.255864\n",
       "          ...   \n",
       "1630    3.700127\n",
       "1631    3.889441\n",
       "1632    0.914971\n",
       "1633    1.105168\n",
       "1634    1.476272\n",
       "Name: Kavg_log2, Length: 1635, dtype: float64"
      ]
     },
     "execution_count": 50,
     "metadata": {},
     "output_type": "execute_result"
    }
   ],
   "source": [
    "TCtrain_df"
   ]
  },
  {
   "cell_type": "code",
   "execution_count": 52,
   "id": "665f312c",
   "metadata": {},
   "outputs": [],
   "source": [
    "X_train=train_df\n",
    "X_test=test_df\n",
    "y_train=TCtrain_df\n",
    "y_test=TCtest_df\n",
    "for i in [X_train, X_test, y_train,y_test]:\n",
    "    i.index = range(i.shape[0])\n",
    "scaler.fit(X_train)\n",
    "#scaler.fit(X_test)\n",
    "X = scaler.transform(X_train)\n",
    "X_test = scaler.transform(X_test)"
   ]
  },
  {
   "cell_type": "code",
   "execution_count": 53,
   "id": "4d799a6f",
   "metadata": {},
   "outputs": [],
   "source": [
    "X_cov = (X.T @ X) / (X.shape[0] - 1) #here we are taking our mean as 0 "
   ]
  },
  {
   "cell_type": "code",
   "execution_count": 54,
   "id": "5f995320",
   "metadata": {},
   "outputs": [],
   "source": [
    "import matplotlib.pyplot as plt\n",
    "import seaborn as sns\n",
    "import time\n",
    "from tqdm import trange"
   ]
  },
  {
   "cell_type": "code",
   "execution_count": 55,
   "id": "22eb578b",
   "metadata": {},
   "outputs": [
    {
     "name": "stderr",
     "output_type": "stream",
     "text": [
      "100%|██████████| 100/100 [00:50<00:00,  1.97it/s]\n"
     ]
    }
   ],
   "source": [
    "import scipy\n",
    "for i in trange(100):\n",
    "    #P_values, P = np.linalg.eig(X_cov)\n",
    "    P_values, P =scipy.linalg.eig(X_cov)\n",
    "    time.sleep(0.5)"
   ]
  },
  {
   "cell_type": "code",
   "execution_count": 56,
   "id": "81181e93",
   "metadata": {},
   "outputs": [],
   "source": [
    "P_values=P_values.real\n",
    "P=P.real"
   ]
  },
  {
   "cell_type": "code",
   "execution_count": 57,
   "id": "6375d322",
   "metadata": {},
   "outputs": [
    {
     "data": {
      "text/plain": [
       "array([0.33127456, 0.48588979, 0.58797775, 0.6463347 , 0.7005502 ,\n",
       "       0.74414318, 0.77635487, 0.80211549, 0.8233601 , 0.84372457,\n",
       "       0.86117733, 0.8782865 , 0.89304046, 0.90681847, 0.9187334 ,\n",
       "       0.9279497 , 0.93662048, 0.94452197, 0.95098188, 0.95668707,\n",
       "       0.96166208, 0.9664274 , 0.97081118, 0.97492294, 0.97828342,\n",
       "       0.98096056, 0.98354074, 0.98576796, 0.98770758, 0.98963562,\n",
       "       0.99128632, 0.9926339 , 0.99389335, 0.99511014, 0.99619241,\n",
       "       0.99709776, 0.99782797, 0.99832514, 0.99875911, 0.99907215,\n",
       "       0.99930497, 0.99950826, 0.99964613, 0.99976687, 0.99984635,\n",
       "       0.99990686, 0.99996301, 0.99998217, 0.99999754, 0.99999983,\n",
       "       1.        , 1.        , 1.        ])"
      ]
     },
     "execution_count": 57,
     "metadata": {},
     "output_type": "execute_result"
    }
   ],
   "source": [
    "import numpy as np\n",
    "idx = np.argsort(P_values, axis=0)[::-1]\n",
    "cumsum = np.cumsum(P_values[idx]) / np.sum(P_values[idx])\n",
    "cumsum"
   ]
  },
  {
   "cell_type": "code",
   "execution_count": 58,
   "id": "05178008",
   "metadata": {},
   "outputs": [
    {
     "data": {
      "text/plain": [
       "([<matplotlib.axis.XTick at 0x135a76e45e0>,\n",
       "  <matplotlib.axis.XTick at 0x135a46d91c0>,\n",
       "  <matplotlib.axis.XTick at 0x135a76d4370>,\n",
       "  <matplotlib.axis.XTick at 0x135ab4dce20>,\n",
       "  <matplotlib.axis.XTick at 0x135ab4dc6a0>,\n",
       "  <matplotlib.axis.XTick at 0x135ab2db130>,\n",
       "  <matplotlib.axis.XTick at 0x135ab0a9790>,\n",
       "  <matplotlib.axis.XTick at 0x1359e705e20>,\n",
       "  <matplotlib.axis.XTick at 0x135ac20f580>,\n",
       "  <matplotlib.axis.XTick at 0x135ac20f610>,\n",
       "  <matplotlib.axis.XTick at 0x135ac20fc40>,\n",
       "  <matplotlib.axis.XTick at 0x135ac20f550>,\n",
       "  <matplotlib.axis.XTick at 0x135ab2d6940>,\n",
       "  <matplotlib.axis.XTick at 0x135ac20f940>,\n",
       "  <matplotlib.axis.XTick at 0x135ab0a9c10>,\n",
       "  <matplotlib.axis.XTick at 0x135ab2d61f0>,\n",
       "  <matplotlib.axis.XTick at 0x135ab515190>,\n",
       "  <matplotlib.axis.XTick at 0x135ab5b00a0>,\n",
       "  <matplotlib.axis.XTick at 0x135ab5b06d0>,\n",
       "  <matplotlib.axis.XTick at 0x135ab5b0400>,\n",
       "  <matplotlib.axis.XTick at 0x135ac0a0dc0>,\n",
       "  <matplotlib.axis.XTick at 0x135a76dc2e0>,\n",
       "  <matplotlib.axis.XTick at 0x135ac0a0850>,\n",
       "  <matplotlib.axis.XTick at 0x135ab515130>,\n",
       "  <matplotlib.axis.XTick at 0x135ac20f760>,\n",
       "  <matplotlib.axis.XTick at 0x135a76dcca0>,\n",
       "  <matplotlib.axis.XTick at 0x135a76dc190>,\n",
       "  <matplotlib.axis.XTick at 0x135ac20d610>,\n",
       "  <matplotlib.axis.XTick at 0x135ac20d370>,\n",
       "  <matplotlib.axis.XTick at 0x135ab4e6910>,\n",
       "  <matplotlib.axis.XTick at 0x135ab4e6850>,\n",
       "  <matplotlib.axis.XTick at 0x135ac7e0ac0>,\n",
       "  <matplotlib.axis.XTick at 0x135ac20d190>,\n",
       "  <matplotlib.axis.XTick at 0x135a76dcd60>,\n",
       "  <matplotlib.axis.XTick at 0x135ab5b0c10>,\n",
       "  <matplotlib.axis.XTick at 0x135ab5b7fa0>,\n",
       "  <matplotlib.axis.XTick at 0x135ab5b7d60>,\n",
       "  <matplotlib.axis.XTick at 0x135ab5b7580>,\n",
       "  <matplotlib.axis.XTick at 0x135ac209910>,\n",
       "  <matplotlib.axis.XTick at 0x135ac209e20>,\n",
       "  <matplotlib.axis.XTick at 0x135a46a2ee0>,\n",
       "  <matplotlib.axis.XTick at 0x135ac209b80>,\n",
       "  <matplotlib.axis.XTick at 0x135ab5b0040>,\n",
       "  <matplotlib.axis.XTick at 0x135ab4e6190>,\n",
       "  <matplotlib.axis.XTick at 0x135a47259d0>,\n",
       "  <matplotlib.axis.XTick at 0x135a4725520>,\n",
       "  <matplotlib.axis.XTick at 0x135ab465e50>,\n",
       "  <matplotlib.axis.XTick at 0x135ab5d6eb0>,\n",
       "  <matplotlib.axis.XTick at 0x135ab5d69a0>,\n",
       "  <matplotlib.axis.XTick at 0x135ab5d65b0>,\n",
       "  <matplotlib.axis.XTick at 0x135ab5d6850>,\n",
       "  <matplotlib.axis.XTick at 0x135a4725790>,\n",
       "  <matplotlib.axis.XTick at 0x135ab5b7bb0>],\n",
       " [Text(0, 0, ''),\n",
       "  Text(0, 0, ''),\n",
       "  Text(0, 0, ''),\n",
       "  Text(0, 0, ''),\n",
       "  Text(0, 0, ''),\n",
       "  Text(0, 0, ''),\n",
       "  Text(0, 0, ''),\n",
       "  Text(0, 0, ''),\n",
       "  Text(0, 0, ''),\n",
       "  Text(0, 0, ''),\n",
       "  Text(0, 0, ''),\n",
       "  Text(0, 0, ''),\n",
       "  Text(0, 0, ''),\n",
       "  Text(0, 0, ''),\n",
       "  Text(0, 0, ''),\n",
       "  Text(0, 0, ''),\n",
       "  Text(0, 0, ''),\n",
       "  Text(0, 0, ''),\n",
       "  Text(0, 0, ''),\n",
       "  Text(0, 0, ''),\n",
       "  Text(0, 0, ''),\n",
       "  Text(0, 0, ''),\n",
       "  Text(0, 0, ''),\n",
       "  Text(0, 0, ''),\n",
       "  Text(0, 0, ''),\n",
       "  Text(0, 0, ''),\n",
       "  Text(0, 0, ''),\n",
       "  Text(0, 0, ''),\n",
       "  Text(0, 0, ''),\n",
       "  Text(0, 0, ''),\n",
       "  Text(0, 0, ''),\n",
       "  Text(0, 0, ''),\n",
       "  Text(0, 0, ''),\n",
       "  Text(0, 0, ''),\n",
       "  Text(0, 0, ''),\n",
       "  Text(0, 0, ''),\n",
       "  Text(0, 0, ''),\n",
       "  Text(0, 0, ''),\n",
       "  Text(0, 0, ''),\n",
       "  Text(0, 0, ''),\n",
       "  Text(0, 0, ''),\n",
       "  Text(0, 0, ''),\n",
       "  Text(0, 0, ''),\n",
       "  Text(0, 0, ''),\n",
       "  Text(0, 0, ''),\n",
       "  Text(0, 0, ''),\n",
       "  Text(0, 0, ''),\n",
       "  Text(0, 0, ''),\n",
       "  Text(0, 0, ''),\n",
       "  Text(0, 0, ''),\n",
       "  Text(0, 0, ''),\n",
       "  Text(0, 0, ''),\n",
       "  Text(0, 0, '')])"
      ]
     },
     "execution_count": 58,
     "metadata": {},
     "output_type": "execute_result"
    },
    {
     "data": {
      "image/png": "[encoded data removed]",
      "text/plain": [
       "<Figure size 720x576 with 1 Axes>"
      ]
     },
     "metadata": {
      "needs_background": "light"
     },
     "output_type": "display_data"
    }
   ],
   "source": [
    "#cumsum = np.cumsum(P_values[idx]) / np.sum(P_values[idx])\n",
    "plt.figure(figsize=(10,8))\n",
    "xint = range(1, len(cumsum) + 1)\n",
    "plt.plot(xint, cumsum)\n",
    "plt.xlabel(\"Number of components\")\n",
    "plt.ylabel(\"Cumulative explained variance\")\n",
    "plt.xticks(xint)"
   ]
  },
  {
   "cell_type": "code",
   "execution_count": 59,
   "id": "ad18cba9",
   "metadata": {},
   "outputs": [
    {
     "name": "stdout",
     "output_type": "stream",
     "text": [
      "18 0.9509818803068846\n",
      "19 0.9566870744533761\n",
      "20 0.9616620822446972\n",
      "21 0.9664274030553005\n",
      "22 0.9708111785587533\n",
      "23 0.9749229446406664\n",
      "24 0.9782834217948344\n",
      "25 0.9809605568416623\n",
      "26 0.9835407358044045\n",
      "27 0.9857679637354111\n",
      "28 0.9877075826063875\n"
     ]
    }
   ],
   "source": [
    "c=0\n",
    "for i in range(1,29):\n",
    "    if cumsum[i]>0.95:\n",
    "        c+=1\n",
    "        print (i, cumsum[i])"
   ]
  },
  {
   "cell_type": "code",
   "execution_count": 60,
   "id": "81c5cbbf",
   "metadata": {},
   "outputs": [
    {
     "data": {
      "text/plain": [
       "array([[-1.95014974,  2.77183953,  0.16933312, ...,  0.28729057,\n",
       "         0.07193301,  0.4420998 ],\n",
       "       [-1.74661382,  1.92294134,  0.09025747, ..., -0.45228   ,\n",
       "         0.398218  , -0.48685905],\n",
       "       [ 2.07740043,  3.56410545,  1.39241641, ...,  0.43958998,\n",
       "         0.08494112, -0.6001415 ],\n",
       "       ...,\n",
       "       [ 1.16349824, -2.72987647, -4.72177579, ..., -0.14958571,\n",
       "        -1.01588123,  1.74228556],\n",
       "       [ 7.19759877, -6.35869613, -0.43461808, ..., -0.89348896,\n",
       "        -0.71433536,  1.33590051],\n",
       "       [ 0.57772393, -1.92312077, -3.61275883, ..., -0.50619063,\n",
       "        -0.41971888,  1.01605693]])"
      ]
     },
     "execution_count": 60,
     "metadata": {},
     "output_type": "execute_result"
    }
   ],
   "source": [
    "X_pca = X.dot(P[:,0:19])\n",
    "X_pca\n",
    "Xtest_pca = X_test.dot(P[:,0:19])\n",
    "Xtest_pca "
   ]
  },
  {
   "cell_type": "code",
   "execution_count": 61,
   "id": "6fad6a2e",
   "metadata": {},
   "outputs": [
    {
     "data": {
      "text/plain": [
       "(100, 19)"
      ]
     },
     "execution_count": 61,
     "metadata": {},
     "output_type": "execute_result"
    }
   ],
   "source": [
    "Xtest_pca.shape"
   ]
  },
  {
   "cell_type": "code",
   "execution_count": 62,
   "id": "cad13324",
   "metadata": {},
   "outputs": [],
   "source": [
    "from sklearn.ensemble import RandomForestRegressor\n",
    "import xgboost as xgb\n",
    "from sklearn.neural_network import MLPRegressor\n",
    "from sklearn.metrics import mean_squared_error\n",
    "import math\n",
    "import numpy as np"
   ]
  },
  {
   "cell_type": "code",
   "execution_count": 63,
   "id": "fef4b38e",
   "metadata": {},
   "outputs": [
    {
     "name": "stdout",
     "output_type": "stream",
     "text": [
      "***==========Construction of RF model==========***\n",
      "1095 25 3 1\n",
      "Training set score: 0.905390\n",
      "Test set score: 0.789320\n",
      "MSE:0.22611330671228722\n",
      "RMSE:0.4755137292574077\n"
     ]
    }
   ],
   "source": [
    "#RF model\n",
    "print (\"***==========Construction of RF model==========***\")\n",
    "n_estimator = int(1095.6013777198768)\n",
    "max_depths = int(25.0)\n",
    "min_samples_split=int(np.round(3.048538443050114))\n",
    "min_samples_leaf=int(np.round(1.0))\n",
    "print(n_estimator,max_depths,min_samples_split,min_samples_leaf)\n",
    "i=4\n",
    "rfg = RandomForestRegressor(n_estimators = n_estimator, max_features='auto',random_state=i, max_depth = max_depths,min_samples_split=min_samples_split,min_samples_leaf=min_samples_leaf)\n",
    "rfg.fit(X_pca,y_train.values.ravel())\n",
    "res = rfg.predict(Xtest_pca)\n",
    "print(\"Training set score: %f\" % rfg.score(X_pca,y_train))\n",
    "print(\"Test set score: %f\" % rfg.score(Xtest_pca ,y_test))\n",
    "mse=mean_squared_error(y_test,res)\n",
    "rmse=math.sqrt(mse)\n",
    "print('MSE:{}'.format(mse))\n",
    "print('RMSE:{}'.format(rmse))"
   ]
  },
  {
   "cell_type": "code",
   "execution_count": 65,
   "id": "34150420",
   "metadata": {},
   "outputs": [
    {
     "name": "stdout",
     "output_type": "stream",
     "text": [
      "***==========Construction of XGboost model==========***\n",
      "0.09 1176 9 7 0.32 0.49 0.37 2.52 2.48\n",
      "Training set score: 0.887643\n",
      "Test set score: 0.784910\n",
      "MSE:0.2308466992377834\n",
      "RMSE:0.48046508638795327\n"
     ]
    }
   ],
   "source": [
    "#XGboost model\n",
    "print (\"***==========Construction of XGboost model==========***\")\n",
    "learning_rate=round(0.09341682872837534,2)\n",
    "n_estimators=int(1176.387510134944)\n",
    "max_depth = int(9.588862672769721)\n",
    "min_child_weight=int(7.350946094169667)\n",
    "subsample=round(0.317831597231615,2)\n",
    "colsample_bytree=round(0.48934718175179426,2)\n",
    "gamma=round(0.3661476531273544,2)\n",
    "reg_alpha=round(2.518441678199748,2)\n",
    "reg_lambda=round(2.478071009066136,2)\n",
    "print (learning_rate,n_estimators,max_depth,min_child_weight,subsample,colsample_bytree,gamma,reg_alpha,reg_lambda)\n",
    "model = xgb.XGBRegressor(learning_rate=learning_rate,n_estimators=n_estimators,max_depth=max_depth,min_child_weight=min_child_weight\\\n",
    "                         ,seed=7,subsample=subsample,colsample_bytree=colsample_bytree,gamma=gamma,reg_alpha=reg_alpha,reg_lambda=reg_lambda,random_state=1)\n",
    "model.fit(X_pca,y_train.values.ravel())\n",
    "res = model.predict(Xtest_pca)\n",
    "print(\"Training set score: %f\" % model.score(X_pca,y_train))\n",
    "print(\"Test set score: %f\" % model.score(Xtest_pca ,y_test))\n",
    "mse=mean_squared_error(y_test,res)\n",
    "rmse=math.sqrt(mse)\n",
    "print('MSE:{}'.format(mse))\n",
    "print('RMSE:{}'.format(rmse))"
   ]
  },
  {
   "cell_type": "code",
   "execution_count": 66,
   "id": "b4303edd",
   "metadata": {},
   "outputs": [
    {
     "name": "stdout",
     "output_type": "stream",
     "text": [
      "***==========Construction of MLP model==========***\n",
      "Training set score: 0.870447\n",
      "Test set score: 0.812371\n",
      "MSE:0.20137406442881162\n",
      "RMSE:0.44874721662514144\n"
     ]
    }
   ],
   "source": [
    "#MLP model\n",
    "print (\"***==========Construction of MLP model==========***\")\n",
    "randomseed = np.random.seed(0)\n",
    "clf = MLPRegressor(solver=\"adam\",alpha=0.8510214010857666,\n",
    "                   hidden_layer_sizes=[200, 200, 200, 200], max_iter=1000,\n",
    "                   verbose=False, tol=0.0001,random_state=randomseed)\n",
    "clf.fit(X_pca,y_train.values.ravel())\n",
    "print(\"Training set score: %f\" % clf.score(X_pca,y_train))\n",
    "print(\"Test set score: %f\" % clf.score(Xtest_pca,y_test))\n",
    "res = clf.predict(Xtest_pca)\n",
    "mse=mean_squared_error(y_test,res)\n",
    "rmse=math.sqrt(mse)\n",
    "print('MSE:{}'.format(mse))\n",
    "print('RMSE:{}'.format(rmse))"
   ]
  },
  {
   "cell_type": "code",
   "execution_count": 67,
   "id": "efad0432",
   "metadata": {},
   "outputs": [],
   "source": [
    "import matplotlib.pyplot as plt\n",
    "from matplotlib.pyplot import MultipleLocator"
   ]
  },
  {
   "cell_type": "code",
   "execution_count": 68,
   "id": "8fdd59a9",
   "metadata": {},
   "outputs": [
    {
     "name": "stdout",
     "output_type": "stream",
     "text": [
      "***==========Plots of RF model prediction results==========***\n"
     ]
    },
    {
     "data": {
      "image/png": "[encoded data removed]",
      "text/plain": [
       "<Figure size 288x252 with 1 Axes>"
      ]
     },
     "metadata": {
      "needs_background": "light"
     },
     "output_type": "display_data"
    }
   ],
   "source": [
    "print (\"***==========Plots of RF model prediction results==========***\")\n",
    "RF_train = rfg.predict(X_pca)\n",
    "RF_test = rfg.predict(Xtest_pca)\n",
    "plt.rc('font',family='Arial',weight='normal')\n",
    "font1 = {'family' : 'Arial',\n",
    "'weight' : 'normal',\n",
    "'size'   : 16,\n",
    "}\n",
    "font2 = {'family' : 'Arial',\n",
    "'weight' : 'normal',\n",
    "'size'   : 16,\n",
    "}\n",
    "plt.figure(figsize=(4,3.5))\n",
    "#plt.title(\"Traing dataset with r2=0.955\",font1)\n",
    "plt.plot(y_train,RF_train,color='b',marker='o',linestyle='', markerfacecolor='white',alpha=1)\n",
    "plt.plot(y_test,RF_test,color='r',marker='o',linestyle='', markerfacecolor='white',alpha=1)\n",
    "plt.legend(labels=[\"Training data\",\"Test data\"],loc=\"best\",fontsize=14)  \n",
    "sub_map= str.maketrans('0123456789', '₀₁₂₃₄₅₆₇₈₉')\n",
    "title='Calculated TC (log2K)'\n",
    "title1='Predicted TC (log2K)'\n",
    "plt.xlabel(title,font1 )\n",
    "plt.ylabel(title1,font1 )\n",
    "plt.xlim((-1, 9))\n",
    "plt.ylim((-1, 9))\n",
    "plt.plot([-1,9],[-1,9], color='k', linewidth=1.5, linestyle='--')\n",
    "my_x_ticks = np.arange(-1,10,2)\n",
    "my_y_ticks = np.arange(-1,10,2)\n",
    "plt.xticks(my_x_ticks,size=14)\n",
    "plt.yticks(my_y_ticks,size=14)\n",
    "plt.tick_params(width=1.5)\n",
    "bwith = 1.5 \n",
    "TK = plt.gca()\n",
    "TK.spines['bottom'].set_linewidth(bwith)\n",
    "TK.spines['left'].set_linewidth(bwith)\n",
    "TK.spines['top'].set_linewidth(bwith)\n",
    "TK.spines['right'].set_linewidth(bwith)\n",
    "plt.tight_layout()\n",
    "# show\n",
    "plt.show()"
   ]
  },
  {
   "cell_type": "code",
   "execution_count": 69,
   "id": "1964a30a",
   "metadata": {},
   "outputs": [
    {
     "name": "stdout",
     "output_type": "stream",
     "text": [
      "***==========Plots of XGBoost model prediction results==========***\n"
     ]
    },
    {
     "data": {
      "image/png": "[encoded data removed]",
      "text/plain": [
       "<Figure size 288x252 with 1 Axes>"
      ]
     },
     "metadata": {
      "needs_background": "light"
     },
     "output_type": "display_data"
    }
   ],
   "source": [
    "print (\"***==========Plots of XGBoost model prediction results==========***\")\n",
    "XGBoost_train = model.predict(X_pca)\n",
    "XGBoost_test = model.predict(Xtest_pca)\n",
    "plt.rc('font',family='Arial',weight='normal')\n",
    "font1 = {'family' : 'Arial',\n",
    "'weight' : 'normal',\n",
    "'size'   : 16,\n",
    "}\n",
    "font2 = {'family' : 'Arial',\n",
    "'weight' : 'normal',\n",
    "'size'   : 16,\n",
    "}\n",
    "plt.figure(figsize=(4,3.5))\n",
    "#plt.title(\"Traing dataset with r2=0.955\",font1)\n",
    "plt.plot(y_train,XGBoost_train,color='b',marker='o',linestyle='', markerfacecolor='white',alpha=1)\n",
    "plt.plot(y_test,XGBoost_test,color='r',marker='o',linestyle='', markerfacecolor='white',alpha=1)\n",
    "plt.legend(labels=[\"Training data\",\"Test data\"],loc=\"best\",fontsize=14)  \n",
    "sub_map= str.maketrans('0123456789', '₀₁₂₃₄₅₆₇₈₉')\n",
    "title='Calculated TC (log2K)'\n",
    "title1='Predicted TC (log2K)'\n",
    "plt.xlabel(title,font1 )\n",
    "plt.ylabel(title1,font1 )\n",
    "plt.xlim((-1, 9))\n",
    "plt.ylim((-1, 9))\n",
    "plt.plot([-1,9],[-1,9], color='k', linewidth=1.5, linestyle='--')\n",
    "my_x_ticks = np.arange(-1,10,2)\n",
    "my_y_ticks = np.arange(-1,10,2)\n",
    "plt.xticks(my_x_ticks,size=14)\n",
    "plt.yticks(my_y_ticks,size=14)\n",
    "plt.tick_params(width=1.5)\n",
    "bwith = 1.5 \n",
    "TK = plt.gca()\n",
    "TK.spines['bottom'].set_linewidth(bwith)\n",
    "TK.spines['left'].set_linewidth(bwith)\n",
    "TK.spines['top'].set_linewidth(bwith)\n",
    "TK.spines['right'].set_linewidth(bwith)\n",
    "plt.tight_layout()\n",
    "# show\n",
    "plt.show()"
   ]
  },
  {
   "cell_type": "code",
   "execution_count": 70,
   "id": "a8075a0c",
   "metadata": {},
   "outputs": [
    {
     "name": "stdout",
     "output_type": "stream",
     "text": [
      "***==========Plots of MLP model prediction results==========***\n"
     ]
    },
    {
     "data": {
      "image/png": "[encoded data removed]",
      "text/plain": [
       "<Figure size 288x252 with 1 Axes>"
      ]
     },
     "metadata": {
      "needs_background": "light"
     },
     "output_type": "display_data"
    }
   ],
   "source": [
    "print (\"***==========Plots of MLP model prediction results==========***\")\n",
    "MLP_train = clf.predict(X_pca)\n",
    "MLP_test = clf.predict(Xtest_pca)\n",
    "plt.rc('font',family='Arial',weight='normal')\n",
    "font1 = {'family' : 'Arial',\n",
    "'weight' : 'normal',\n",
    "'size'   : 16,\n",
    "}\n",
    "font2 = {'family' : 'Arial',\n",
    "'weight' : 'normal',\n",
    "'size'   : 16,\n",
    "}\n",
    "plt.figure(figsize=(4,3.5))\n",
    "#plt.title(\"Traing dataset with r2=0.955\",font1)\n",
    "plt.plot(y_train,MLP_train,color='b',marker='o',linestyle='', markerfacecolor='white',alpha=1)\n",
    "plt.plot(y_test,MLP_test,color='r',marker='o',linestyle='', markerfacecolor='white',alpha=1)\n",
    "plt.legend(labels=[\"Training data\",\"Test data\"],loc=\"best\",fontsize=14)  \n",
    "sub_map= str.maketrans('0123456789', '₀₁₂₃₄₅₆₇₈₉')\n",
    "title='Calculated TC (log2K)'\n",
    "title1='Predicted TC (log2K)'\n",
    "plt.xlabel(title,font1 )\n",
    "plt.ylabel(title1,font1 )\n",
    "plt.xlim((-1, 9))\n",
    "plt.ylim((-1, 9))\n",
    "plt.plot([-1,9],[-1,9], color='k', linewidth=1.5, linestyle='--')\n",
    "my_x_ticks = np.arange(-1,10,2)\n",
    "my_y_ticks = np.arange(-1,10,2)\n",
    "plt.xticks(my_x_ticks,size=14)\n",
    "plt.yticks(my_y_ticks,size=14)\n",
    "plt.tick_params(width=1.5)\n",
    "bwith = 1.5 \n",
    "TK = plt.gca()\n",
    "TK.spines['bottom'].set_linewidth(bwith)\n",
    "TK.spines['left'].set_linewidth(bwith)\n",
    "TK.spines['top'].set_linewidth(bwith)\n",
    "TK.spines['right'].set_linewidth(bwith)\n",
    "plt.tight_layout()\n",
    "# show\n",
    "plt.show()"
   ]
  }
 ],
 "metadata": {
  "kernelspec": {
   "display_name": "Python 3 (ipykernel)",
   "language": "python",
   "name": "python3"
  },
  "language_info": {
   "codemirror_mode": {
    "name": "ipython",
    "version": 3
   },
   "file_extension": ".py",
   "mimetype": "text/x-python",
   "name": "python",
   "nbconvert_exporter": "python",
   "pygments_lexer": "ipython3",
   "version": "3.8.5"
  }
 },
 "nbformat": 4,
 "nbformat_minor": 5
}
