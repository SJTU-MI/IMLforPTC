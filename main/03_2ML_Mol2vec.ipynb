{
 "cells": [
  {
   "cell_type": "code",
   "execution_count": 1,
   "id": "7549f07f",
   "metadata": {},
   "outputs": [],
   "source": [
    "import pandas as pd\n",
    "from sklearn.preprocessing import StandardScaler\n",
    "scaler = StandardScaler()"
   ]
  },
  {
   "cell_type": "code",
   "execution_count": 2,
   "id": "6dcf291b",
   "metadata": {},
   "outputs": [],
   "source": [
    "feature_path=\"../Data02-different_descriptors/graph_descriptor/"\n",
    "TC_path=\"../Data02-different_descriptors/TC/"\n",
    "train_data=\"Mol2vec_train.pkl\"\n",
    "test_data=\"Mol2vec_test.pkl\"\n",
    "TC_train=\"TC_train.pkl\"\n",
    "TC_test=\"TC_test.pkl\""
   ]
  },
  {
   "cell_type": "code",
   "execution_count": 3,
   "id": "21a9165f",
   "metadata": {},
   "outputs": [],
   "source": [
    "train_df=pd.read_pickle(feature_path+train_data)\n",
    "test_df=pd.read_pickle(feature_path+test_data)\n",
    "TCtrain_df=pd.read_pickle(TC_path+TC_train)\n",
    "TCtest_df=pd.read_pickle(TC_path+TC_test)"
   ]
  },
  {
   "cell_type": "code",
   "execution_count": 19,
   "id": "628623bf",
   "metadata": {},
   "outputs": [],
   "source": [
    "X_train=train_df\n",
    "X_test=test_df\n",
    "y_train=TCtrain_df[\"TC_log2\"]\n",
    "y_test=TCtest_df[\"TC_log2\"]\n",
    "for i in [X_train, X_test, y_train,y_test]:\n",
    "    i.index = range(i.shape[0])\n",
    "scaler.fit(X_train)\n",
    "#scaler.fit(X_test)\n",
    "X = scaler.transform(X_train)\n",
    "X_test = scaler.transform(X_test)"
   ]
  },
  {
   "cell_type": "code",
   "execution_count": 20,
   "id": "36aeaf78",
   "metadata": {},
   "outputs": [],
   "source": [
    "from sklearn.ensemble import RandomForestRegressor\n",
    "import xgboost as xgb\n",
    "from sklearn.neural_network import MLPRegressor\n",
    "from sklearn.metrics import mean_squared_error\n",
    "import math\n",
    "import numpy as np"
   ]
  },
  {
   "cell_type": "code",
   "execution_count": 21,
   "id": "9f6901ba",
   "metadata": {},
   "outputs": [
    {
     "name": "stdout",
     "output_type": "stream",
     "text": [
      "***==========Construction of RF model==========***\n",
      "Training set score: 0.903478\n",
      "Test set score: 0.745307\n",
      "MSE:0.2733512578569478\n",
      "RMSE:0.5228300468191818\n"
     ]
    }
   ],
   "source": [
    "#RF model\n",
    "print (\"***==========Construction of RF model==========***\")\n",
    "rfg = RandomForestRegressor(n_estimators =185, max_features='auto',random_state=0, max_depth = 25,min_samples_split=2,min_samples_leaf=1)\n",
    "rfg.fit(X,y_train.values.ravel())\n",
    "res = rfg.predict(X_test)\n",
    "print(\"Training set score: %f\" % rfg.score(X,y_train))\n",
    "print(\"Test set score: %f\" % rfg.score(X_test,y_test))\n",
    "mse=mean_squared_error(y_test,res)\n",
    "rmse=math.sqrt(mse)\n",
    "print('MSE:{}'.format(mse))\n",
    "print('RMSE:{}'.format(rmse))"
   ]
  },
  {
   "cell_type": "code",
   "execution_count": 22,
   "id": "b00a778d",
   "metadata": {},
   "outputs": [
    {
     "name": "stdout",
     "output_type": "stream",
     "text": [
      "***==========Construction of XGboost model==========***\n",
      "0.02 1016 7 9 0.82 0.47 0.54 1.08 1.94\n",
      "Training set score: 0.916302\n",
      "Test set score: 0.789330\n",
      "MSE:0.22610348933503668\n",
      "RMSE:0.4755034062286375\n"
     ]
    }
   ],
   "source": [
    "#XGboost model\n",
    "print (\"***==========Construction of XGboost model==========***\")\n",
    "learning_rate=round(0.01868463320518421,2)\n",
    "n_estimators=int(1016.5486409265691)\n",
    "max_depth = int(7.49477633391151)\n",
    "min_child_weight=int(9.890065820410463)\n",
    "subsample=round(0.8223528920048844,2)\n",
    "colsample_bytree=round(0.4733559114404394,2)\n",
    "gamma=round(0.5392108860803022,2)\n",
    "reg_alpha=round(1.0846044929935958,2)\n",
    "reg_lambda=round(1.94499412657684,2)\n",
    "print (learning_rate,n_estimators,max_depth,min_child_weight,subsample,colsample_bytree,gamma,reg_alpha,reg_lambda)\n",
    "model = xgb.XGBRegressor(learning_rate=learning_rate,n_estimators=n_estimators,max_depth=max_depth,min_child_weight=min_child_weight\\\n",
    "                         ,seed=int(0),subsample=subsample,colsample_bytree=colsample_bytree,gamma=gamma,reg_alpha=reg_alpha,reg_lambda=reg_lambda)\n",
    "model.fit(X,y_train.values.ravel())\n",
    "res = model.predict(X_test)\n",
    "print(\"Training set score: %f\" % model.score(X,y_train))\n",
    "print(\"Test set score: %f\" % model.score(X_test,y_test))\n",
    "mse=mean_squared_error(y_test,res)\n",
    "rmse=math.sqrt(mse)\n",
    "print('MSE:{}'.format(mse))\n",
    "print('RMSE:{}'.format(rmse))"
   ]
  },
  {
   "cell_type": "code",
   "execution_count": 23,
   "id": "eec03f8d",
   "metadata": {},
   "outputs": [
    {
     "name": "stdout",
     "output_type": "stream",
     "text": [
      "***==========Construction of MLP model==========***\n",
      "Training set score: 0.746491\n",
      "Test set score: 0.793388\n",
      "MSE:0.2217476072287038\n",
      "RMSE:0.4709008464939342\n"
     ]
    }
   ],
   "source": [
    "#MLP model\n",
    "print (\"***==========Construction of MLP model==========***\")\n",
    "randomseed = np.random.seed(int(13))\n",
    "clf = MLPRegressor(solver='adam',alpha=1.0,\n",
    "                   hidden_layer_sizes=[136, 136, 136], max_iter=1000,\n",
    "                   verbose=False, tol=0.0001,random_state=randomseed)\n",
    "clf.fit(X,y_train.values.ravel())\n",
    "print(\"Training set score: %f\" % clf.score(X,y_train))\n",
    "print(\"Test set score: %f\" % clf.score(X_test,y_test))\n",
    "res = clf.predict(X_test)\n",
    "mse=mean_squared_error(y_test,res)\n",
    "rmse=math.sqrt(mse)\n",
    "print('MSE:{}'.format(mse))\n",
    "print('RMSE:{}'.format(rmse))"
   ]
  },
  {
   "cell_type": "code",
   "execution_count": 24,
   "id": "f2bfc34d",
   "metadata": {},
   "outputs": [],
   "source": [
    "import matplotlib.pyplot as plt\n",
    "from matplotlib.pyplot import MultipleLocator"
   ]
  },
  {
   "cell_type": "code",
   "execution_count": 25,
   "id": "de81a46d",
   "metadata": {},
   "outputs": [
    {
     "name": "stdout",
     "output_type": "stream",
     "text": [
      "***==========Plots of RF model prediction results==========***\n"
     ]
    },
    {
     "data": {
      "image/png": "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\n",
      "text/plain": [
       "<Figure size 288x252 with 1 Axes>"
      ]
     },
     "metadata": {
      "needs_background": "light"
     },
     "output_type": "display_data"
    }
   ],
   "source": [
    "print (\"***==========Plots of RF model prediction results==========***\")\n",
    "RF_train = rfg.predict(X)\n",
    "RF_test = rfg.predict(X_test)\n",
    "plt.rc('font',family='Arial',weight='normal')\n",
    "font1 = {'family' : 'Arial',\n",
    "'weight' : 'normal',\n",
    "'size'   : 16,\n",
    "}\n",
    "font2 = {'family' : 'Arial',\n",
    "'weight' : 'normal',\n",
    "'size'   : 16,\n",
    "}\n",
    "plt.figure(figsize=(4,3.5))\n",
    "#plt.title(\"Traing dataset with r2=0.955\",font1)\n",
    "plt.plot(y_train,RF_train,color='b',marker='o',linestyle='', markerfacecolor='white',alpha=1)\n",
    "plt.plot(y_test,RF_test,color='r',marker='o',linestyle='', markerfacecolor='white',alpha=1)\n",
    "plt.legend(labels=[\"Training data\",\"Test data\"],loc=\"best\",fontsize=14)  \n",
    "sub_map= str.maketrans('0123456789', '₀₁₂₃₄₅₆₇₈₉')\n",
    "title='Calculated TC (log2K)'\n",
    "title1='Predicted TC (log2K)'\n",
    "plt.xlabel(title,font1 )\n",
    "plt.ylabel(title1,font1 )\n",
    "plt.xlim((-1, 9))\n",
    "plt.ylim((-1, 9))\n",
    "plt.plot([-1,9],[-1,9], color='k', linewidth=1.5, linestyle='--')\n",
    "my_x_ticks = np.arange(-1,10,2)\n",
    "my_y_ticks = np.arange(-1,10,2)\n",
    "plt.xticks(my_x_ticks,size=14)\n",
    "plt.yticks(my_y_ticks,size=14)\n",
    "plt.tick_params(width=1.5)\n",
    "bwith = 1.5 \n",
    "TK = plt.gca()\n",
    "TK.spines['bottom'].set_linewidth(bwith)\n",
    "TK.spines['left'].set_linewidth(bwith)\n",
    "TK.spines['top'].set_linewidth(bwith)\n",
    "TK.spines['right'].set_linewidth(bwith)\n",
    "plt.tight_layout()\n",
    "# show\n",
    "plt.show()"
   ]
  },
  {
   "cell_type": "code",
   "execution_count": 26,
   "id": "ea89da26",
   "metadata": {},
   "outputs": [
    {
     "name": "stdout",
     "output_type": "stream",
     "text": [
      "***==========Plots of XGBoost model prediction results==========***\n"
     ]
    },
    {
     "data": {
      "image/png": "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\n",
      "text/plain": [
       "<Figure size 288x252 with 1 Axes>"
      ]
     },
     "metadata": {
      "needs_background": "light"
     },
     "output_type": "display_data"
    }
   ],
   "source": [
    "print (\"***==========Plots of XGBoost model prediction results==========***\")\n",
    "XGBoost_train = model.predict(X)\n",
    "XGBoost_test = model.predict(X_test)\n",
    "plt.rc('font',family='Arial',weight='normal')\n",
    "font1 = {'family' : 'Arial',\n",
    "'weight' : 'normal',\n",
    "'size'   : 16,\n",
    "}\n",
    "font2 = {'family' : 'Arial',\n",
    "'weight' : 'normal',\n",
    "'size'   : 16,\n",
    "}\n",
    "plt.figure(figsize=(4,3.5))\n",
    "#plt.title(\"Traing dataset with r2=0.955\",font1)\n",
    "plt.plot(y_train,XGBoost_train,color='b',marker='o',linestyle='', markerfacecolor='white',alpha=1)\n",
    "plt.plot(y_test,XGBoost_test,color='r',marker='o',linestyle='', markerfacecolor='white',alpha=1)\n",
    "plt.legend(labels=[\"Training data\",\"Test data\"],loc=\"best\",fontsize=14)  \n",
    "sub_map= str.maketrans('0123456789', '₀₁₂₃₄₅₆₇₈₉')\n",
    "title='Calculated TC (log2K)'\n",
    "title1='Predicted TC (log2K)'\n",
    "plt.xlabel(title,font1 )\n",
    "plt.ylabel(title1,font1 )\n",
    "plt.xlim((-1, 9))\n",
    "plt.ylim((-1, 9))\n",
    "plt.plot([-1,9],[-1,9], color='k', linewidth=1.5, linestyle='--')\n",
    "my_x_ticks = np.arange(-1,10,2)\n",
    "my_y_ticks = np.arange(-1,10,2)\n",
    "plt.xticks(my_x_ticks,size=14)\n",
    "plt.yticks(my_y_ticks,size=14)\n",
    "plt.tick_params(width=1.5)\n",
    "bwith = 1.5 \n",
    "TK = plt.gca()\n",
    "TK.spines['bottom'].set_linewidth(bwith)\n",
    "TK.spines['left'].set_linewidth(bwith)\n",
    "TK.spines['top'].set_linewidth(bwith)\n",
    "TK.spines['right'].set_linewidth(bwith)\n",
    "plt.tight_layout()\n",
    "# show\n",
    "plt.show()"
   ]
  },
  {
   "cell_type": "code",
   "execution_count": 27,
   "id": "e7cc5464",
   "metadata": {},
   "outputs": [
    {
     "name": "stdout",
     "output_type": "stream",
     "text": [
      "***==========Plots of MLP model prediction results==========***\n"
     ]
    },
    {
     "data": {
      "image/png": "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\n",
      "text/plain": [
       "<Figure size 288x252 with 1 Axes>"
      ]
     },
     "metadata": {
      "needs_background": "light"
     },
     "output_type": "display_data"
    }
   ],
   "source": [
    "print (\"***==========Plots of MLP model prediction results==========***\")\n",
    "MLP_train = clf.predict(X)\n",
    "MLP_test = clf.predict(X_test)\n",
    "plt.rc('font',family='Arial',weight='normal')\n",
    "font1 = {'family' : 'Arial',\n",
    "'weight' : 'normal',\n",
    "'size'   : 16,\n",
    "}\n",
    "font2 = {'family' : 'Arial',\n",
    "'weight' : 'normal',\n",
    "'size'   : 16,\n",
    "}\n",
    "plt.figure(figsize=(4,3.5))\n",
    "#plt.title(\"Traing dataset with r2=0.955\",font1)\n",
    "plt.plot(y_train,MLP_train,color='b',marker='o',linestyle='', markerfacecolor='white',alpha=1)\n",
    "plt.plot(y_test,MLP_test,color='r',marker='o',linestyle='', markerfacecolor='white',alpha=1)\n",
    "plt.legend(labels=[\"Training data\",\"Test data\"],loc=\"best\",fontsize=14)  \n",
    "sub_map= str.maketrans('0123456789', '₀₁₂₃₄₅₆₇₈₉')\n",
    "title='Calculated TC (log2K)'\n",
    "title1='Predicted TC (log2K)'\n",
    "plt.xlabel(title,font1 )\n",
    "plt.ylabel(title1,font1 )\n",
    "plt.xlim((-1, 9))\n",
    "plt.ylim((-1, 9))\n",
    "plt.plot([-1,9],[-1,9], color='k', linewidth=1.5, linestyle='--')\n",
    "my_x_ticks = np.arange(-1,10,2)\n",
    "my_y_ticks = np.arange(-1,10,2)\n",
    "plt.xticks(my_x_ticks,size=14)\n",
    "plt.yticks(my_y_ticks,size=14)\n",
    "plt.tick_params(width=1.5)\n",
    "bwith = 1.5 \n",
    "TK = plt.gca()\n",
    "TK.spines['bottom'].set_linewidth(bwith)\n",
    "TK.spines['left'].set_linewidth(bwith)\n",
    "TK.spines['top'].set_linewidth(bwith)\n",
    "TK.spines['right'].set_linewidth(bwith)\n",
    "plt.tight_layout()\n",
    "# show\n",
    "plt.show()"
   ]
  },
  {
   "cell_type": "code",
   "execution_count": null,
   "id": "3d0a9ba0",
   "metadata": {},
   "outputs": [],
   "source": []
  }
 ],
 "metadata": {
  "kernelspec": {
   "display_name": "Python 3 (ipykernel)",
   "language": "python",
   "name": "python3"
  },
  "language_info": {
   "codemirror_mode": {
    "name": "ipython",
    "version": 3
   },
   "file_extension": ".py",
   "mimetype": "text/x-python",
   "name": "python",
   "nbconvert_exporter": "python",
   "pygments_lexer": "ipython3",
   "version": "3.8.5"
  }
 },
 "nbformat": 4,
 "nbformat_minor": 5
}
